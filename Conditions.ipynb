{
 "metadata": {
  "language_info": {
   "codemirror_mode": {
    "name": "ipython",
    "version": 3
   },
   "file_extension": ".py",
   "mimetype": "text/x-python",
   "name": "python",
   "nbconvert_exporter": "python",
   "pygments_lexer": "ipython3",
   "version": "3.8.5-final"
  },
  "orig_nbformat": 2,
  "kernelspec": {
   "name": "python3",
   "display_name": "Python 3",
   "language": "python"
  }
 },
 "nbformat": 4,
 "nbformat_minor": 2,
 "cells": [
  {
   "source": [
    "# Python Basics - Condictions\n",
    "\n",
    "Python supports all of the usual suspects from mathematics:\n",
    "\n",
    "Equal: a == b\n",
    "<br>\n",
    "Not Equal: a != b\n",
    "<br>\n",
    "Less than: a < b\n",
    "<br>\n",
    "Greater than: a > b\n",
    "<br>\n",
    "Less than or equal to: a <= b\n",
    "<br>\n",
    "Greater than: a > b\n",
    "<br>\n",
    "Greater than or equal to: a >= b\n",
    "\n",
    "These condictions can be used in many applications, lets take a look at using them in 'if' statements:"
   ],
   "cell_type": "markdown",
   "metadata": {}
  },
  {
   "cell_type": "code",
   "execution_count": 3,
   "metadata": {},
   "outputs": [
    {
     "output_type": "stream",
     "name": "stdout",
     "text": [
      "b is greater than a\n"
     ]
    }
   ],
   "source": [
    "a = 5\n",
    "b = 10\n",
    "if a > b:\n",
    "    print('a is greater than b')\n",
    "elif b > a:   \n",
    "    print('b is greater than a')"
   ]
  },
  {
   "source": [
    "In Python, Elif and Else are commonly used within 'if' statements. The difference between them is that 'Elif' is run if the previous condition evaluates as being false. On the other hand, 'Else' will run if all of the previous statements evaluate as being false. For example, below the if statement and the elif statement are both false, therefore the the else statement is run. "
   ],
   "cell_type": "markdown",
   "metadata": {}
  },
  {
   "cell_type": "code",
   "execution_count": 5,
   "metadata": {},
   "outputs": [
    {
     "output_type": "stream",
     "name": "stdout",
     "text": [
      "b is greater than a\n"
     ]
    }
   ],
   "source": [
    "a = 5\n",
    "b = 10\n",
    "if a > b:\n",
    "    print('a is greater than b')\n",
    "elif a == b:\n",
    "    print('a is equal to b')\n",
    "else:\n",
    "    print('b is greater than a')"
   ]
  },
  {
   "cell_type": "code",
   "execution_count": null,
   "metadata": {},
   "outputs": [],
   "source": []
  }
 ]
}