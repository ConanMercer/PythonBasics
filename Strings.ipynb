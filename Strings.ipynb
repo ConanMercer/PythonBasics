{
 "metadata": {
  "language_info": {
   "codemirror_mode": {
    "name": "ipython",
    "version": 3
   },
   "file_extension": ".py",
   "mimetype": "text/x-python",
   "name": "python",
   "nbconvert_exporter": "python",
   "pygments_lexer": "ipython3",
   "version": 3
  },
  "orig_nbformat": 2
 },
 "nbformat": 4,
 "nbformat_minor": 2,
 "cells": [
  {
   "source": [
    "A String in Python can be enclosed by double (\"\") or single ('') quotes. Single quotes are used more frequently. Interestingly, double quotes can contain single quotes, for example \"Don't quote me on that\", and single quote strings can contain double quotes. A string literal is the nomenclature used to describe a sequence of characters from source character enclosed in quotes. It is posible for a string literal to cover multiple lines, but only when a backslash is present at the end of each line.\n",
    "<br>\n",
    "In Python, strings are \"immutable\", in computer science the term immutable is used a lot, it simply means that what it describes is unable to be changed. Because strings are immutable, in order to create a \"new\" string, an expression could construct this like so ('new' + 'string') would construct this string 'newstring'."
   ],
   "cell_type": "markdown",
   "metadata": {}
  }
 ]
}