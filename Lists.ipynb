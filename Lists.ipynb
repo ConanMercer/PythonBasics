{
 "metadata": {
  "language_info": {
   "codemirror_mode": {
    "name": "ipython",
    "version": 3
   },
   "file_extension": ".py",
   "mimetype": "text/x-python",
   "name": "python",
   "nbconvert_exporter": "python",
   "pygments_lexer": "ipython3",
   "version": "3.8.5-final"
  },
  "orig_nbformat": 2,
  "kernelspec": {
   "name": "python3",
   "display_name": "Python 3",
   "language": "python"
  }
 },
 "nbformat": 4,
 "nbformat_minor": 2,
 "cells": [
  {
   "source": [
    "Python has built-in list type. The list literal is created using square bracket syntax []."
   ],
   "cell_type": "markdown",
   "metadata": {}
  },
  {
   "cell_type": "code",
   "execution_count": 1,
   "metadata": {},
   "outputs": [
    {
     "output_type": "stream",
     "name": "stdout",
     "text": [
      "['running', 'cycling', 'swimming']\nrunning\nswimming\n3\n"
     ]
    }
   ],
   "source": [
    "sports = ['running','cycling','swimming']\n",
    "\n",
    "print (sports)\n",
    "print (sports[0])\n",
    "print (sports[2])\n",
    "print (len(sports))"
   ]
  },
  {
   "source": [
    "When assigning a list to a new variable with the '=' operand, it is important to note that the list is not 'copied', but rather the same list is assigned to both its original variable and the new one."
   ],
   "cell_type": "markdown",
   "metadata": {}
  },
  {
   "cell_type": "code",
   "execution_count": 2,
   "metadata": {},
   "outputs": [
    {
     "output_type": "stream",
     "name": "stdout",
     "text": [
      "['running', 'cycling', 'swimming']\n"
     ]
    }
   ],
   "source": [
    "s = sports  ## List is not copied\n",
    "\n",
    "print (s)"
   ]
  },
  {
   "source": [
    "## FOR and IN\n",
    "\n",
    "In Python a 'for' loop is used to iterate over a sequence. This sequence can be a list, tuple, dictionary, set or string. A for loop is an extremely useful way of looking at each element in a list, some example:"
   ],
   "cell_type": "markdown",
   "metadata": {}
  },
  {
   "cell_type": "code",
   "execution_count": 3,
   "metadata": {},
   "outputs": [
    {
     "output_type": "stream",
     "name": "stdout",
     "text": [
      "1\n2\n3\n4\n5\n"
     ]
    }
   ],
   "source": [
    "counting = [1, 2, 3, 4, 5]\n",
    "sum = 0\n",
    "\n",
    "for num in counting:\n",
    "    print (num)"
   ]
  },
  {
   "cell_type": "code",
   "execution_count": 4,
   "metadata": {},
   "outputs": [
    {
     "output_type": "stream",
     "name": "stdout",
     "text": [
      "15\n"
     ]
    }
   ],
   "source": [
    "for num in counting:\n",
    "    sum += num\n",
    "print (sum)"
   ]
  },
  {
   "cell_type": "code",
   "execution_count": 5,
   "metadata": {},
   "outputs": [
    {
     "output_type": "stream",
     "name": "stdout",
     "text": [
      "yes\nno\n"
     ]
    }
   ],
   "source": [
    "if 'running' in sports:\n",
    "    print ('yes')\n",
    "if 'golf' in sports:\n",
    "    print ('yes')\n",
    "else:\n",
    "    print ('no')"
   ]
  }
 ]
}