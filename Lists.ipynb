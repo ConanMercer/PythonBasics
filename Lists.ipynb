{
 "metadata": {
  "language_info": {
   "codemirror_mode": {
    "name": "ipython",
    "version": 3
   },
   "file_extension": ".py",
   "mimetype": "text/x-python",
   "name": "python",
   "nbconvert_exporter": "python",
   "pygments_lexer": "ipython3",
   "version": "3.8.5-final"
  },
  "orig_nbformat": 2,
  "kernelspec": {
   "name": "python3",
   "display_name": "Python 3",
   "language": "python"
  }
 },
 "nbformat": 4,
 "nbformat_minor": 2,
 "cells": [
  {
   "source": [
    "# Python Basics - Lists\n",
    "Python has a built-in list type. The list literal is created using square bracket syntax '[]'. All the items (elements) inside these square brackets is what comprises the list.\n",
    "<br>\n",
    "Below is an example of of an alphabetical list holding three elements. Each element can be selected using the slice syntax [], and the length of the list can be shown using the len() function:"
   ],
   "cell_type": "markdown",
   "metadata": {}
  },
  {
   "cell_type": "code",
   "execution_count": 1,
   "metadata": {},
   "outputs": [
    {
     "output_type": "stream",
     "name": "stdout",
     "text": [
      "['running', 'cycling', 'swimming']\nrunning\nswimming\n3\n"
     ]
    }
   ],
   "source": [
    "sports = ['running','cycling','swimming']\n",
    "\n",
    "print (sports)\n",
    "print (sports[0])\n",
    "print (sports[2])\n",
    "print (len(sports))"
   ]
  },
  {
   "source": [
    "When assigning a list to a new variable with the '=' operand, it is important to note that the list is not 'copied', but rather the same list is assigned to both its original variable and the new one:"
   ],
   "cell_type": "markdown",
   "metadata": {}
  },
  {
   "cell_type": "code",
   "execution_count": 2,
   "metadata": {},
   "outputs": [
    {
     "output_type": "execute_result",
     "data": {
      "text/plain": [
       "['running', 'cycling', 'swimming']"
      ]
     },
     "metadata": {},
     "execution_count": 2
    }
   ],
   "source": [
    "s = sports  ## List is not copied\n",
    "s"
   ]
  },
  {
   "source": [
    "## FOR and IN\n",
    "\n",
    "In Python a 'FOR' loop is used to iterate over a sequence. This sequence can be a list, tuple, dictionary, set or string. The FOR loop is an extremely useful way of looking at each element in a list. The next example iterates through the list called 'counting' and prints each element within: "
   ],
   "cell_type": "markdown",
   "metadata": {}
  },
  {
   "cell_type": "code",
   "execution_count": 3,
   "metadata": {},
   "outputs": [
    {
     "output_type": "stream",
     "name": "stdout",
     "text": [
      "1\n2\n3\n4\n5\n"
     ]
    }
   ],
   "source": [
    "counting = [1, 2, 3, 4, 5]\n",
    "\n",
    "for num in counting:\n",
    "    print (num)"
   ]
  },
  {
   "source": [
    "Next, instead of printing each element, the FOR loop iterates though the counting list. Each time an element is reached, the value is added to the 'sum' variable. After the FOR loop has completed, the sum of all the numbers in the counting list is printed:"
   ],
   "cell_type": "markdown",
   "metadata": {}
  },
  {
   "cell_type": "code",
   "execution_count": 4,
   "metadata": {},
   "outputs": [
    {
     "output_type": "execute_result",
     "data": {
      "text/plain": [
       "15"
      ]
     },
     "metadata": {},
     "execution_count": 4
    }
   ],
   "source": [
    "sum = 0\n",
    "\n",
    "for num in counting:\n",
    "    sum += num\n",
    "    \n",
    "sum"
   ]
  },
  {
   "source": [
    "By using the IN construct it is also possible to check if an element is in fact present. The next example checks if a specific string is present in the sports list, depending on how the if statement evaluates, a confirmation message is printed:"
   ],
   "cell_type": "markdown",
   "metadata": {}
  },
  {
   "cell_type": "code",
   "execution_count": 5,
   "metadata": {},
   "outputs": [
    {
     "output_type": "stream",
     "name": "stdout",
     "text": [
      "running is in the list\ngolf is not in the list\n"
     ]
    }
   ],
   "source": [
    "if 'running' in sports:\n",
    "    print ('running is in the list')\n",
    "else:\n",
    "    print ('running is not in the list')\n",
    "\n",
    "if 'golf' in sports:\n",
    "    print ('golf is in the list')\n",
    "else:\n",
    "    print ('golf is not in the list')"
   ]
  },
  {
   "source": [
    "A simplier way to achieve the same evaluation as above is to use 'in' with the print function. If the string is present in the list, the output is true:"
   ],
   "cell_type": "markdown",
   "metadata": {}
  },
  {
   "cell_type": "code",
   "execution_count": 6,
   "metadata": {},
   "outputs": [
    {
     "output_type": "stream",
     "name": "stdout",
     "text": [
      "True\nFalse\n"
     ]
    }
   ],
   "source": [
    "print('running' in sports)\n",
    "print('golf' in sports)"
   ]
  },
  {
   "source": [
    "### Range\n",
    "\n",
    "In Python the range() function returns a sequence of defined numbers. This range starts at 0 (n-1). By using range() in a FOR loop, it is possible to build a numeric FOR loop:"
   ],
   "cell_type": "markdown",
   "metadata": {}
  },
  {
   "cell_type": "code",
   "execution_count": 7,
   "metadata": {},
   "outputs": [
    {
     "output_type": "stream",
     "name": "stdout",
     "text": [
      "0\n1\n2\n3\n4\n"
     ]
    }
   ],
   "source": [
    "for i in range(5):\n",
    "    print(i)"
   ]
  },
  {
   "source": [
    "### While Loop\n",
    "\n",
    "Python has a while loop built-in. This is very useful when needing to excute a set of statements while a condiction is true. The example below prints the value of the variable 'i' while the value is less than 5:"
   ],
   "cell_type": "markdown",
   "metadata": {}
  },
  {
   "cell_type": "code",
   "execution_count": 8,
   "metadata": {},
   "outputs": [
    {
     "output_type": "stream",
     "name": "stdout",
     "text": [
      "1\n2\n3\n4\n"
     ]
    }
   ],
   "source": [
    "i = 1\n",
    "\n",
    "while i < 5:\n",
    "    print(i)\n",
    "    i += 1\n"
   ]
  },
  {
   "source": [
    "It is possible to break out of the while loop when a certain condition is met. For example, once the value of 'i' is equal to 3:"
   ],
   "cell_type": "markdown",
   "metadata": {}
  },
  {
   "cell_type": "code",
   "execution_count": 9,
   "metadata": {},
   "outputs": [
    {
     "output_type": "stream",
     "name": "stdout",
     "text": [
      "1\n",
      "2\n",
      "3\n"
     ]
    }
   ],
   "source": [
    "i = 1\n",
    "\n",
    "while i < 5:\n",
    "    print(i)\n",
    "    if i == 3:\n",
    "        break\n",
    "    i += 1"
   ]
  },
  {
   "source": [
    "Conversely, it is also possible to continue when a condition is met. Here, the current iteration is stopped, and the program continues with the next:"
   ],
   "cell_type": "markdown",
   "metadata": {}
  },
  {
   "cell_type": "code",
   "execution_count": 10,
   "metadata": {},
   "outputs": [
    {
     "output_type": "stream",
     "name": "stdout",
     "text": [
      "2\n4\n5\n"
     ]
    }
   ],
   "source": [
    "i = 1\n",
    "while i < 5:\n",
    "    i += 1\n",
    "    if i == 3:\n",
    "        continue\n",
    "    print(i)"
   ]
  },
  {
   "source": [
    "## Append\n",
    "\n",
    "Appending to a list in Python is straightforward. It is important to note that when appending to a list, the original list is modified."
   ],
   "cell_type": "markdown",
   "metadata": {}
  },
  {
   "cell_type": "code",
   "execution_count": 11,
   "metadata": {},
   "outputs": [
    {
     "output_type": "stream",
     "name": "stdout",
     "text": [
      "['running', 'cycling', 'swimming']\n['running', 'cycling', 'swimming', 'tennis']\n"
     ]
    }
   ],
   "source": [
    "print(sports)\n",
    "sports.append('tennis')\n",
    "print(sports)"
   ]
  },
  {
   "source": [
    "To append an element at a specific location in the list, the insert command works, which requires the position followed by the element to insert:"
   ],
   "cell_type": "markdown",
   "metadata": {}
  },
  {
   "cell_type": "code",
   "execution_count": 12,
   "metadata": {},
   "outputs": [
    {
     "output_type": "execute_result",
     "data": {
      "text/plain": [
       "['golf', 'running', 'cycling', 'swimming', 'tennis']"
      ]
     },
     "metadata": {},
     "execution_count": 12
    }
   ],
   "source": [
    "sports.insert(0,'golf')\n",
    "sports\n"
   ]
  },
  {
   "source": [
    "A pattern used often to build up a list is to start with an empty list and append elements to it:"
   ],
   "cell_type": "markdown",
   "metadata": {}
  },
  {
   "cell_type": "code",
   "execution_count": 13,
   "metadata": {},
   "outputs": [
    {
     "output_type": "stream",
     "name": "stdout",
     "text": [
      "['one', 'two', 'three']\n"
     ]
    }
   ],
   "source": [
    "building = []\n",
    "\n",
    "building.append('one')\n",
    "building.append('two')\n",
    "building.append('three')\n",
    "print(building)"
   ]
  },
  {
   "source": [
    "## Basic Statistics\n",
    "\n",
    "Some basic statistics can be run on lists. Below a range of numbers is created, and the min() and max() values are reported:"
   ],
   "cell_type": "markdown",
   "metadata": {}
  },
  {
   "cell_type": "code",
   "execution_count": 14,
   "metadata": {},
   "outputs": [
    {
     "output_type": "execute_result",
     "data": {
      "text/plain": [
       "[0, 1, 2, 3, 4, 5, 6, 7, 8, 9, 10, 11, 12, 13, 14]"
      ]
     },
     "metadata": {},
     "execution_count": 14
    }
   ],
   "source": [
    "numbers = list(range(15))\n",
    "numbers"
   ]
  },
  {
   "cell_type": "code",
   "execution_count": 15,
   "metadata": {},
   "outputs": [
    {
     "output_type": "execute_result",
     "data": {
      "text/plain": [
       "14"
      ]
     },
     "metadata": {},
     "execution_count": 15
    }
   ],
   "source": [
    "max(numbers)"
   ]
  },
  {
   "cell_type": "code",
   "execution_count": 16,
   "metadata": {},
   "outputs": [
    {
     "output_type": "execute_result",
     "data": {
      "text/plain": [
       "0"
      ]
     },
     "metadata": {},
     "execution_count": 16
    }
   ],
   "source": [
    "min(numbers)"
   ]
  }
 ]
}