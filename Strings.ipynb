{
 "metadata": {
  "language_info": {
   "codemirror_mode": {
    "name": "ipython",
    "version": 3
   },
   "file_extension": ".py",
   "mimetype": "text/x-python",
   "name": "python",
   "nbconvert_exporter": "python",
   "pygments_lexer": "ipython3",
   "version": "3.8.5-final"
  },
  "orig_nbformat": 2,
  "kernelspec": {
   "name": "python3",
   "display_name": "Python 3",
   "language": "python"
  }
 },
 "nbformat": 4,
 "nbformat_minor": 2,
 "cells": [
  {
   "source": [
    "# Python Basics - Strings\n",
    "\n",
    "A string is a sequence of characters. A string can take the form of a literal constant (fixed value) or of a variable.\n",
    "<br>\n",
    "A string in Python can be enclosed by double (\"...\") or single ('...') quotes. Single quotes are used more frequently. Interestingly, double quotes can contain single quotes, for example \"Don't quote me on that\". \n",
    "<br>\n",
    "The exact opposite is also true, single quote strings can contain double quotes. \n",
    "<br>\n",
    "Below is an example of a string stored in a variable (s), enclosed by single quotes:"
   ],
   "cell_type": "markdown",
   "metadata": {}
  },
  {
   "cell_type": "code",
   "execution_count": 1,
   "metadata": {},
   "outputs": [
    {
     "output_type": "execute_result",
     "data": {
      "text/plain": [
       "'good'"
      ]
     },
     "metadata": {},
     "execution_count": 1
    }
   ],
   "source": [
    "s = 'good'\n",
    "s"
   ]
  },
  {
   "source": [
    "### Concatenation\n",
    "\n",
    "A string literal is the nomenclature used to describe a sequence of characters from the source (first) character, all the way to the end of the enclosed in quotes.\n",
    "<br>\n",
    "In Python, strings are \"immutable\", in computer science the term immutable is used a lot, it simply means that what it describes is unable to be changed. Because strings are immutable, in order to create a \"new\" string, an expression could construct this like so ('new' + 'string') which would construct this string 'newstring'.\n",
    "<br>\n",
    "The length of a string can be returned by using the \"len\" function. The '+' operator concatenates strings. Concatenate is the nomenclature used to describe the action of linking together in a chain or series."
   ],
   "cell_type": "markdown",
   "metadata": {}
  },
  {
   "cell_type": "code",
   "execution_count": 2,
   "metadata": {},
   "outputs": [
    {
     "output_type": "stream",
     "name": "stdout",
     "text": [
      "good morning\n4\n"
     ]
    },
    {
     "output_type": "execute_result",
     "data": {
      "text/plain": [
       "12"
      ]
     },
     "metadata": {},
     "execution_count": 2
    }
   ],
   "source": [
    "print (s + ' morning')\n",
    "print (len(s))\n",
    "\n",
    "len(s + ' morning')"
   ]
  },
  {
   "source": [
    "When two or more string literals are placed next to each other, they are automatically concatenated:"
   ],
   "cell_type": "markdown",
   "metadata": {}
  },
  {
   "cell_type": "code",
   "execution_count": 3,
   "metadata": {},
   "outputs": [
    {
     "output_type": "execute_result",
     "data": {
      "text/plain": [
       "'Automatic concatenation'"
      ]
     },
     "metadata": {},
     "execution_count": 3
    }
   ],
   "source": [
    "'Automatic' ' concatenation'"
   ]
  },
  {
   "source": [
    "Besides concatenating strings, it is also possible to repeat a string with *:"
   ],
   "cell_type": "markdown",
   "metadata": {}
  },
  {
   "cell_type": "code",
   "execution_count": 4,
   "metadata": {},
   "outputs": [
    {
     "output_type": "execute_result",
     "data": {
      "text/plain": [
       "'goodgood morning'"
      ]
     },
     "metadata": {},
     "execution_count": 4
    }
   ],
   "source": [
    "2 * s + ' morning'"
   ]
  },
  {
   "source": [
    "### String indexing\n",
    "To access a character within a string, the [] syntax can be used. This is called 'string indexing'. Python uses zero-based indexing, meaning that the first character can be assessed using 0, the second using 1."
   ],
   "cell_type": "markdown",
   "metadata": {}
  },
  {
   "cell_type": "code",
   "execution_count": 5,
   "metadata": {},
   "outputs": [
    {
     "output_type": "execute_result",
     "data": {
      "text/plain": [
       "'g'"
      ]
     },
     "metadata": {},
     "execution_count": 5
    }
   ],
   "source": [
    "s[0]"
   ]
  },
  {
   "cell_type": "code",
   "execution_count": 6,
   "metadata": {},
   "outputs": [
    {
     "output_type": "execute_result",
     "data": {
      "text/plain": [
       "'o'"
      ]
     },
     "metadata": {},
     "execution_count": 6
    }
   ],
   "source": [
    "s[1]"
   ]
  },
  {
   "source": [
    "Indices can also be negative numbers, to start counting from the right instead of the left:"
   ],
   "cell_type": "markdown",
   "metadata": {}
  },
  {
   "cell_type": "code",
   "execution_count": 7,
   "metadata": {},
   "outputs": [
    {
     "output_type": "execute_result",
     "data": {
      "text/plain": [
       "'d'"
      ]
     },
     "metadata": {},
     "execution_count": 7
    }
   ],
   "source": [
    "s[-1]"
   ]
  },
  {
   "source": [
    "### Data type conversion\n",
    "\n",
    "In Python, the use of '+' does not convert from other data types, for example a variable holding an integer. In this case the str() function can be used, as seen below. The str() function converts values to a string data type. After this point they can be treated as any other string, for example they can be combined with other strings:"
   ],
   "cell_type": "markdown",
   "metadata": {}
  },
  {
   "cell_type": "code",
   "execution_count": 8,
   "metadata": {},
   "outputs": [
    {
     "output_type": "stream",
     "name": "stdout",
     "text": [
      "the value of one half is 0.5\n"
     ]
    }
   ],
   "source": [
    "half = 0.5\n",
    "print ('the value of one half is ' + str(half)) "
   ]
  },
  {
   "source": [
    "## String Methods\n",
    "\n",
    "Python is an Object Oriented Programming (OOP) language. Therefore, methods in Python run on 'objects'. A method is like a function, but it runs on an object. For example, 's' is a string variable, this is now the object. From here, Python has many built-in methods that can run on this object. Below are two examples, the first uses the method lower(), which converts the string literal entirely into lower case. The second, into entirely upper case.\n"
   ],
   "cell_type": "markdown",
   "metadata": {}
  },
  {
   "cell_type": "code",
   "execution_count": 9,
   "metadata": {},
   "outputs": [
    {
     "output_type": "execute_result",
     "data": {
      "text/plain": [
       "'a string we use as an object'"
      ]
     },
     "metadata": {},
     "execution_count": 9
    }
   ],
   "source": [
    "s = 'A string we use as an Object'\n",
    "s.lower()"
   ]
  },
  {
   "cell_type": "code",
   "execution_count": 10,
   "metadata": {},
   "outputs": [
    {
     "output_type": "execute_result",
     "data": {
      "text/plain": [
       "'A STRING WE USE AS AN OBJECT'"
      ]
     },
     "metadata": {},
     "execution_count": 10
    }
   ],
   "source": [
    "s.upper()"
   ]
  },
  {
   "source": [
    "Other useful string methods are the isalpha() and isnumeric(), which return true for a string that contains only alphabets, or numerics, respectively."
   ],
   "cell_type": "markdown",
   "metadata": {}
  },
  {
   "cell_type": "code",
   "execution_count": 11,
   "metadata": {},
   "outputs": [
    {
     "output_type": "execute_result",
     "data": {
      "text/plain": [
       "True"
      ]
     },
     "metadata": {},
     "execution_count": 11
    }
   ],
   "source": [
    "x = 'string'\n",
    "x.isalpha()"
   ]
  },
  {
   "cell_type": "code",
   "execution_count": 12,
   "metadata": {},
   "outputs": [
    {
     "output_type": "execute_result",
     "data": {
      "text/plain": [
       "False"
      ]
     },
     "metadata": {},
     "execution_count": 12
    }
   ],
   "source": [
    "x.isnumeric()"
   ]
  },
  {
   "cell_type": "code",
   "execution_count": 13,
   "metadata": {},
   "outputs": [
    {
     "output_type": "execute_result",
     "data": {
      "text/plain": [
       "False"
      ]
     },
     "metadata": {},
     "execution_count": 13
    }
   ],
   "source": [
    "x = '1000'\n",
    "x.isalpha()"
   ]
  },
  {
   "cell_type": "code",
   "execution_count": 14,
   "metadata": {},
   "outputs": [
    {
     "output_type": "execute_result",
     "data": {
      "text/plain": [
       "True"
      ]
     },
     "metadata": {},
     "execution_count": 14
    }
   ],
   "source": [
    "x.isnumeric()"
   ]
  },
  {
   "source": [
    "## String Slices\n",
    "\n",
    "A string 'slice' can be thought of as cutting into parts of a string. The slice s\\[start:end\\] takes the elements of the string from the very start, up to but not including the end. For example, s\\[0:3\\] from below will return a string value of 'cut'.\n",
    "\n",
    "![stringslice](img/stringslice.png)"
   ],
   "cell_type": "markdown",
   "metadata": {}
  },
  {
   "cell_type": "code",
   "execution_count": 15,
   "metadata": {},
   "outputs": [
    {
     "output_type": "execute_result",
     "data": {
      "text/plain": [
       "'cut'"
      ]
     },
     "metadata": {},
     "execution_count": 15
    }
   ],
   "source": [
    "s = 'cutmycake'\n",
    "s[0:3]"
   ]
  },
  {
   "cell_type": "code",
   "execution_count": 16,
   "metadata": {},
   "outputs": [
    {
     "output_type": "execute_result",
     "data": {
      "text/plain": [
       "'my'"
      ]
     },
     "metadata": {},
     "execution_count": 16
    }
   ],
   "source": [
    "s[3:5]"
   ]
  },
  {
   "cell_type": "code",
   "execution_count": 17,
   "metadata": {},
   "outputs": [
    {
     "output_type": "execute_result",
     "data": {
      "text/plain": [
       "'cake'"
      ]
     },
     "metadata": {},
     "execution_count": 17
    }
   ],
   "source": [
    "s[5:9]"
   ]
  },
  {
   "source": [
    "It is also possible to concatenate string slices:"
   ],
   "cell_type": "markdown",
   "metadata": {}
  },
  {
   "cell_type": "code",
   "execution_count": 18,
   "metadata": {},
   "outputs": [
    {
     "output_type": "execute_result",
     "data": {
      "text/plain": [
       "'cutmycake'"
      ]
     },
     "metadata": {},
     "execution_count": 18
    }
   ],
   "source": [
    "s[0:3] + s[3:5] + s[5:9]"
   ]
  },
  {
   "source": [
    "It is also possible to omit either the start or end index, or both. In this case the index will default to the very start or end of the string. For example:"
   ],
   "cell_type": "markdown",
   "metadata": {}
  },
  {
   "cell_type": "code",
   "execution_count": 19,
   "metadata": {},
   "outputs": [
    {
     "output_type": "execute_result",
     "data": {
      "text/plain": [
       "'cut'"
      ]
     },
     "metadata": {},
     "execution_count": 19
    }
   ],
   "source": [
    "s[:3]"
   ]
  },
  {
   "cell_type": "code",
   "execution_count": 20,
   "metadata": {},
   "outputs": [
    {
     "output_type": "execute_result",
     "data": {
      "text/plain": [
       "'mycake'"
      ]
     },
     "metadata": {},
     "execution_count": 20
    }
   ],
   "source": [
    "s[3:]"
   ]
  },
  {
   "cell_type": "code",
   "execution_count": 21,
   "metadata": {},
   "outputs": [
    {
     "output_type": "execute_result",
     "data": {
      "text/plain": [
       "'cutmycake'"
      ]
     },
     "metadata": {},
     "execution_count": 21
    }
   ],
   "source": [
    "s[:]"
   ]
  },
  {
   "source": [
    "### Stride\n",
    "An additional : making for a total of three indices can be used to 'stride' or 'step'. This will step to the given value after each character in the slice is retrieved. For example, the string holds binary numbers that repeat twice before changing value. By setting the value of the third index to 2, the slicing steps over the repeated values and then prints alternating binary numbers without repeating:"
   ],
   "cell_type": "markdown",
   "metadata": {}
  },
  {
   "cell_type": "code",
   "execution_count": 22,
   "metadata": {},
   "outputs": [
    {
     "output_type": "execute_result",
     "data": {
      "text/plain": [
       "'010101'"
      ]
     },
     "metadata": {},
     "execution_count": 22
    }
   ],
   "source": [
    "s = '001100110011'\n",
    "s[0:12:2]"
   ]
  }
 ]
}