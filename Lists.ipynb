{
 "metadata": {
  "language_info": {
   "codemirror_mode": {
    "name": "ipython",
    "version": 3
   },
   "file_extension": ".py",
   "mimetype": "text/x-python",
   "name": "python",
   "nbconvert_exporter": "python",
   "pygments_lexer": "ipython3",
   "version": "3.8.5-final"
  },
  "orig_nbformat": 2,
  "kernelspec": {
   "name": "python3",
   "display_name": "Python 3",
   "language": "python"
  }
 },
 "nbformat": 4,
 "nbformat_minor": 2,
 "cells": [
  {
   "source": [
    "Python has built-in list type. The list literal is created using square bracket syntax []."
   ],
   "cell_type": "markdown",
   "metadata": {}
  },
  {
   "cell_type": "code",
   "execution_count": 1,
   "metadata": {},
   "outputs": [
    {
     "output_type": "stream",
     "name": "stdout",
     "text": [
      "['running', 'cycling', 'swimming']\nrunning\nswimming\n3\n"
     ]
    }
   ],
   "source": [
    "sports = ['running','cycling','swimming']\n",
    "\n",
    "print (sports)\n",
    "print (sports[0])\n",
    "print (sports[2])\n",
    "print (len(sports))"
   ]
  },
  {
   "source": [
    "When assigning a list to a new variable with the '=' operand, it is important to note that the list is not 'copied', but rather the same list is assigned to both its original variable and the new one."
   ],
   "cell_type": "markdown",
   "metadata": {}
  },
  {
   "cell_type": "code",
   "execution_count": 2,
   "metadata": {},
   "outputs": [
    {
     "output_type": "stream",
     "name": "stdout",
     "text": [
      "['running', 'cycling', 'swimming']\n"
     ]
    }
   ],
   "source": [
    "s = sports  ## List is not copied\n",
    "\n",
    "print (s)"
   ]
  },
  {
   "source": [
    "## FOR and IN\n",
    "\n",
    "In Python a 'for' loop is used to iterate over a sequence. This sequence can be a list, tuple, dictionary, set or string. A for loop is an extremely useful way of looking at each element in a list. The next example iterates through the list called 'counting' and prints each element within: "
   ],
   "cell_type": "markdown",
   "metadata": {}
  },
  {
   "cell_type": "code",
   "execution_count": 3,
   "metadata": {},
   "outputs": [
    {
     "output_type": "stream",
     "name": "stdout",
     "text": [
      "1\n2\n3\n4\n5\n"
     ]
    }
   ],
   "source": [
    "counting = [1, 2, 3, 4, 5]\n",
    "sum = 0\n",
    "\n",
    "for num in counting:\n",
    "    print (num)"
   ]
  },
  {
   "source": [
    "Next, instead of printing each element, the for loop iterates though the counting list. Each time an element is reached, the value is added to the 'sum' variable. After the for loop has completed, the sum of all the numbers in the counting list is printed."
   ],
   "cell_type": "markdown",
   "metadata": {}
  },
  {
   "cell_type": "code",
   "execution_count": 4,
   "metadata": {},
   "outputs": [
    {
     "output_type": "stream",
     "name": "stdout",
     "text": [
      "15\n"
     ]
    }
   ],
   "source": [
    "for num in counting:\n",
    "    sum += num\n",
    "print (sum)"
   ]
  },
  {
   "source": [
    "By using the IN construct it is also possible to check if an element is in fact present. The next example checks if a specific string is present in the sports list, if true a 'yes' is printed, and 'no' if false. "
   ],
   "cell_type": "markdown",
   "metadata": {}
  },
  {
   "cell_type": "code",
   "execution_count": 5,
   "metadata": {},
   "outputs": [
    {
     "output_type": "stream",
     "name": "stdout",
     "text": [
      "yes\nno\n"
     ]
    }
   ],
   "source": [
    "if 'running' in sports:\n",
    "    print ('yes')\n",
    "if 'golf' in sports:\n",
    "    print ('yes')\n",
    "else:\n",
    "    print ('no')"
   ]
  },
  {
   "source": [
    "### Range\n",
    "\n",
    "In Python the range() function returns a sequence of defined numbers. This range starts at 0 (n-1). By using the range and for loop, it is possible to build a numeric for loop."
   ],
   "cell_type": "markdown",
   "metadata": {}
  },
  {
   "cell_type": "code",
   "execution_count": 6,
   "metadata": {},
   "outputs": [
    {
     "output_type": "stream",
     "name": "stdout",
     "text": [
      "0\n1\n2\n3\n4\n"
     ]
    }
   ],
   "source": [
    "for i in range(5):\n",
    "    print(i)"
   ]
  },
  {
   "source": [
    "### While Loop"
   ],
   "cell_type": "markdown",
   "metadata": {}
  }
 ]
}