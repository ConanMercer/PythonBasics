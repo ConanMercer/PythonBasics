{
 "metadata": {
  "language_info": {
   "codemirror_mode": {
    "name": "ipython",
    "version": 3
   },
   "file_extension": ".py",
   "mimetype": "text/x-python",
   "name": "python",
   "nbconvert_exporter": "python",
   "pygments_lexer": "ipython3",
   "version": "3.8.5-final"
  },
  "orig_nbformat": 2,
  "kernelspec": {
   "name": "python3",
   "display_name": "Python 3",
   "language": "python"
  }
 },
 "nbformat": 4,
 "nbformat_minor": 2,
 "cells": [
  {
   "source": [
    "# Python Basics - Strings\n",
    "\n",
    "A String in Python can be enclosed by double (\"\") or single ('') quotes. Single quotes are used more frequently. Interestingly, double quotes can contain single quotes, for example \"Don't quote me on that\", and single quote strings can contain double quotes. A string literal is the nomenclature used to describe a sequence of characters from source character enclosed in quotes. It is posible for a string literal to cover multiple lines, but only when a backslash is present at the end of each line.\n",
    "<br>\n",
    "In Python, strings are \"immutable\", in computer science the term immutable is used a lot, it simply means that what it describes is unable to be changed. Because strings are immutable, in order to create a \"new\" string, an expression could construct this like so ('new' + 'string') would construct this string 'newstring'.\n",
    "<br>\n",
    "To access a character within a string, the [] syntax can be used. Python uses zero-based indexing, meaning that the first character can be assessed using 0, the second using 1. The length of a string can be returned by using the \"len\" function. the '+' operator concatenates strings. Concatenate is the nomenclature used to describe the action of linking together in a chain or series."
   ],
   "cell_type": "markdown",
   "metadata": {}
  },
  {
   "cell_type": "code",
   "execution_count": 1,
   "metadata": {},
   "outputs": [
    {
     "output_type": "stream",
     "name": "stdout",
     "text": [
      "g\no\n4\ngood morning\n"
     ]
    }
   ],
   "source": [
    "s = 'good'\n",
    "print (s[0])\n",
    "print (s[1])\n",
    "print (len(s))\n",
    "print (s + ' morning')"
   ]
  }
 ]
}