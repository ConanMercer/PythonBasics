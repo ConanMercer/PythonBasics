{
 "metadata": {
  "language_info": {
   "codemirror_mode": {
    "name": "ipython",
    "version": 3
   },
   "file_extension": ".py",
   "mimetype": "text/x-python",
   "name": "python",
   "nbconvert_exporter": "python",
   "pygments_lexer": "ipython3",
   "version": "3.8.5-final"
  },
  "orig_nbformat": 2,
  "kernelspec": {
   "name": "python3",
   "display_name": "Python 3",
   "language": "python"
  }
 },
 "nbformat": 4,
 "nbformat_minor": 2,
 "cells": [
  {
   "source": [
    "Python has built-in list type. The list literal is created using square bracket syntax []."
   ],
   "cell_type": "markdown",
   "metadata": {}
  },
  {
   "cell_type": "code",
   "execution_count": 1,
   "metadata": {},
   "outputs": [
    {
     "output_type": "stream",
     "name": "stdout",
     "text": [
      "['running', 'cycling', 'swimming']\nrunning\nswimming\n3\n"
     ]
    }
   ],
   "source": [
    "sports = ['running','cycling','swimming']\n",
    "\n",
    "print (sports)\n",
    "print (sports[0])\n",
    "print (sports[2])\n",
    "print (len(sports))"
   ]
  },
  {
   "source": [
    "When assigning a list to a new variable with the '=' operand, it is important to note that the list is not 'copied', but rather the same list is assigned to both its original variable and the new one."
   ],
   "cell_type": "markdown",
   "metadata": {}
  }
 ]
}